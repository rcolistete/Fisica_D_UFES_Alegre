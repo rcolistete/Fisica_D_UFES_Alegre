{
 "cells": [
  {
   "cell_type": "markdown",
   "metadata": {
    "slideshow": {
     "slide_type": "slide"
    }
   },
   "source": [
    "# Disciplina - DQF10440 Física D\n",
    "## Aula em 18/02/2021 - Semestre 2020/2 EARTE\n",
    "### [DQF - CCENS](http://alegre.ufes.br/ccens/departamento-de-quimica-e-fisica) - [UFES/Alegre](http://alegre.ufes.br/)"
   ]
  },
  {
   "cell_type": "markdown",
   "metadata": {
    "slideshow": {
     "slide_type": "slide"
    }
   },
   "source": [
    "# Equações de Maxwell"
   ]
  },
  {
   "cell_type": "markdown",
   "metadata": {
    "slideshow": {
     "slide_type": "fragment"
    }
   },
   "source": [
    "Equações de Maxwell na forma diferencial, via 4 equações válidas pontualmente só no vácuo (sem presença de matéria nos pontos em que as equações são calculadas)."
   ]
  },
  {
   "cell_type": "markdown",
   "metadata": {
    "slideshow": {
     "slide_type": "fragment"
    }
   },
   "source": [
    "Ou seja, queremos calcular as Equações de Maxwell fora das fontes de campo (cargas elétricas e correntes elétricas), em regiões que não tenham matéria (dielétrico, etc) alterando os campos, ou seja, no vácuo."
   ]
  },
  {
   "cell_type": "markdown",
   "metadata": {
    "slideshow": {
     "slide_type": "subslide"
    }
   },
   "source": [
    "Lei de Gauss para campo elétrico :\n",
    "\n",
    "$$\\vec{\\nabla}\\cdot \\vec{E} = \\frac{\\rho }{\\epsilon_{0}} \\quad (1.a)$$"
   ]
  },
  {
   "cell_type": "markdown",
   "metadata": {
    "slideshow": {
     "slide_type": "fragment"
    }
   },
   "source": [
    "muda se não estiver sobre as fontes de campo elétrico, i. e., as cargas elétricas, então $\\rho$, a densidade volumétrica de carga elétrica, é nula :\n",
    "\n",
    "$$\\vec{\\nabla}\\cdot \\vec{E} = 0 \\left(\\frac{N}{m\\,C} \\right) \\quad (1.b)$$"
   ]
  },
  {
   "cell_type": "markdown",
   "metadata": {
    "slideshow": {
     "slide_type": "subslide"
    }
   },
   "source": [
    "Lei de Gauss para campo magnético não muda pois sempre tem o lado direito nulo dado que não existem fontes pontuais (cargas) magnéticas (monopólos magnéticos) :\n",
    "\n",
    "$$\\vec{\\nabla}\\cdot \\vec{B} = 0 \\left(\\frac{T}{m}\\right)\\quad (2.a)$$"
   ]
  },
  {
   "cell_type": "markdown",
   "metadata": {
    "slideshow": {
     "slide_type": "subslide"
    }
   },
   "source": [
    "Lei de Faraday também não muda :\n",
    "\n",
    "$$\\vec{\\nabla}\\times \\vec{E} = -\\frac{\\partial \\vec{B}}{\\partial t}\\quad (3.a)$$"
   ]
  },
  {
   "cell_type": "markdown",
   "metadata": {
    "slideshow": {
     "slide_type": "subslide"
    }
   },
   "source": [
    "Lei de Ampère-Maxwell :\n",
    "\n",
    "$$\\vec{\\nabla}\\times \\vec{B}=\\mu_{0}\\,\\epsilon _{0}\\,\\frac{\\partial \\vec{E}}{\\partial t}+\\mu _{0}\\,\\vec{J}%\n",
    "\\quad (4.a)$$"
   ]
  },
  {
   "cell_type": "markdown",
   "metadata": {
    "slideshow": {
     "slide_type": "fragment"
    }
   },
   "source": [
    "muda se não estiver sobre as fontes de campo magnético, i. e., as correntes elétricas, então $\\vec{J}$, a densidade superficial de corrente elétrica, é nula :\n",
    "\n",
    "$$\\vec{\\nabla}\\times \\vec{B}=\\mu_{0}\\,\\epsilon _{0}\\,\\frac{\\partial \\vec{E}}{\\partial t} \\quad (4.b)$$"
   ]
  },
  {
   "cell_type": "markdown",
   "metadata": {
    "slideshow": {
     "slide_type": "subslide"
    }
   },
   "source": [
    "Após a turma praticar mais cálculos dos operadores diferenciais vetoriais (via exercícios já passados e novos), usaremos as equações (1.b), (2.a), (3.a) e (4.b) para :"
   ]
  },
  {
   "cell_type": "markdown",
   "metadata": {
    "slideshow": {
     "slide_type": "fragment"
    }
   },
   "source": [
    "- obter a equação de propagação de onda eletromagética, que é uma equação diferencial parcial dependente do espaço e do tempo;"
   ]
  },
  {
   "cell_type": "markdown",
   "metadata": {
    "slideshow": {
     "slide_type": "fragment"
    }
   },
   "source": [
    "- verificar se expressões de $\\vec{E}$ e $\\vec{B}$ dadas satisfazem às equações de Maxwell e se geram ou não ondas eletromagnéticas."
   ]
  },
  {
   "cell_type": "markdown",
   "metadata": {
    "slideshow": {
     "slide_type": "fragment"
    }
   },
   "source": [
    "Enquanto isso, veremos propriedades das ondas eletromagnéticas."
   ]
  },
  {
   "cell_type": "markdown",
   "metadata": {
    "slideshow": {
     "slide_type": "slide"
    }
   },
   "source": [
    "# Espectro Eletromagnético"
   ]
  },
  {
   "cell_type": "markdown",
   "metadata": {
    "slideshow": {
     "slide_type": "fragment"
    }
   },
   "source": [
    "O espectro eletromagnético/da luz é dividido em várias categorias, aqui em ordem decrescente de frequência $f = \\nu$ e ordem crescente de comprimento de onda $\\lambda$ :"
   ]
  },
  {
   "cell_type": "markdown",
   "metadata": {
    "slideshow": {
     "slide_type": "fragment"
    }
   },
   "source": [
    "- radiação gama;"
   ]
  },
  {
   "cell_type": "markdown",
   "metadata": {
    "slideshow": {
     "slide_type": "fragment"
    }
   },
   "source": [
    "- radiação de raios-X;"
   ]
  },
  {
   "cell_type": "markdown",
   "metadata": {
    "slideshow": {
     "slide_type": "fragment"
    }
   },
   "source": [
    "- radiação/luz ultravioleta;"
   ]
  },
  {
   "cell_type": "markdown",
   "metadata": {
    "slideshow": {
     "slide_type": "fragment"
    }
   },
   "source": [
    "- radiação/luz visível;"
   ]
  },
  {
   "cell_type": "markdown",
   "metadata": {
    "slideshow": {
     "slide_type": "fragment"
    }
   },
   "source": [
    "- radiação/luz infra-vermelha;"
   ]
  },
  {
   "cell_type": "markdown",
   "metadata": {
    "slideshow": {
     "slide_type": "fragment"
    }
   },
   "source": [
    "- radiação de microondas;"
   ]
  },
  {
   "cell_type": "markdown",
   "metadata": {
    "slideshow": {
     "slide_type": "fragment"
    }
   },
   "source": [
    "- radiação/ondas de rádio."
   ]
  },
  {
   "cell_type": "markdown",
   "metadata": {
    "slideshow": {
     "slide_type": "subslide"
    }
   },
   "source": [
    "![Espectro eletromagnético](https://upload.wikimedia.org/wikipedia/commons/thumb/3/36/Espectro_EM_pt.svg/1400px-Espectro_EM_pt.svg.png)"
   ]
  },
  {
   "cell_type": "markdown",
   "metadata": {
    "slideshow": {
     "slide_type": "subslide"
    }
   },
   "source": [
    "Por Me. Rafael Helerbrock :![Espectro eletromagnético no dia-a-dia - Por Me. Rafael Helerbrock](https://s1.static.brasilescola.uol.com.br/be/conteudo/images/1-espectro-eletromagnetico.jpg)"
   ]
  },
  {
   "cell_type": "markdown",
   "metadata": {
    "slideshow": {
     "slide_type": "fragment"
    }
   },
   "source": [
    "[Introduction to the Electromagnetic Spectrum - Tour of the Electromagnetic Spectrum - Nasa Science](https://science.nasa.gov/ems/01_intro)"
   ]
  },
  {
   "cell_type": "markdown",
   "metadata": {
    "slideshow": {
     "slide_type": "subslide"
    }
   },
   "source": [
    "Espectro eletromagnético interativo :"
   ]
  },
  {
   "cell_type": "markdown",
   "metadata": {
    "slideshow": {
     "slide_type": "fragment"
    }
   },
   "source": [
    "- [Electromagnetic spectrum - eduMedia](https://www.edumedia-sciences.com/en/media/587-electromagnetic-spectrum);"
   ]
  },
  {
   "cell_type": "markdown",
   "metadata": {
    "slideshow": {
     "slide_type": "fragment"
    }
   },
   "source": [
    "- [Wavelength - PBS Learning Media](https://www.pbslearningmedia.org/resource/lsps07.sci.phys.energy.wavelength/wavelength/);"
   ]
  },
  {
   "cell_type": "markdown",
   "metadata": {
    "slideshow": {
     "slide_type": "fragment"
    }
   },
   "source": [
    "- [Forms of Light: Seeing Through Smoke - Infrared light reveals a hidden scene - ViewSpace.org](https://viewspace.org/interactives/unveiling_invisible_universe/forms_of_light/seeing_through_smoke);"
   ]
  },
  {
   "cell_type": "markdown",
   "metadata": {
    "slideshow": {
     "slide_type": "slide"
    }
   },
   "source": [
    "# Propagação da Luz/Onda Eletromagnética"
   ]
  },
  {
   "cell_type": "markdown",
   "metadata": {
    "slideshow": {
     "slide_type": "fragment"
    }
   },
   "source": [
    "- [Electromagnetic wave animation - plotly chart-studio](https://chart-studio.plotly.com/~empet/14298/electromagnetic-wave-animation/#/)"
   ]
  },
  {
   "cell_type": "markdown",
   "metadata": {
    "slideshow": {
     "slide_type": "fragment"
    }
   },
   "source": [
    "- [Interactive animations of electromagnetic waves András Szilágyi Institute of Enzymology, Hungarian Academy of Sciences](https://slideplayer.com/slide/6103402/)"
   ]
  },
  {
   "cell_type": "markdown",
   "metadata": {
    "slideshow": {
     "slide_type": "fragment"
    }
   },
   "source": [
    "- [EMANIM animates electromagnetic waves in vacuum and in matter](https://emanim.szialab.org/index.html);"
   ]
  },
  {
   "cell_type": "markdown",
   "metadata": {
    "slideshow": {
     "slide_type": "fragment"
    }
   },
   "source": [
    "- [Maxwell2D: Animations of electromagnetic waves](https://www.met.reading.ac.uk/clouds/maxwell/);"
   ]
  },
  {
   "cell_type": "markdown",
   "metadata": {
    "slideshow": {
     "slide_type": "fragment"
    }
   },
   "source": [
    "- [Vídeo \"How to simulate EM waves/light in Python/Numpy\" - James Swarowski](https://www.youtube.com/watch?v=uBiQsoDaGkE);"
   ]
  },
  {
   "cell_type": "markdown",
   "metadata": {
    "slideshow": {
     "slide_type": "subslide"
    }
   },
   "source": [
    "$$\\vec{v} \\propto \\vec{E} \\times \\vec{B}$$"
   ]
  },
  {
   "cell_type": "markdown",
   "metadata": {
    "slideshow": {
     "slide_type": "fragment"
    }
   },
   "source": [
    "Continua..."
   ]
  }
 ],
 "metadata": {
  "celltoolbar": "Slideshow",
  "kernelspec": {
   "display_name": "Python 3",
   "language": "python",
   "name": "python3"
  },
  "language_info": {
   "codemirror_mode": {
    "name": "ipython",
    "version": 3
   },
   "file_extension": ".py",
   "mimetype": "text/x-python",
   "name": "python",
   "nbconvert_exporter": "python",
   "pygments_lexer": "ipython3",
   "version": "3.8.3"
  }
 },
 "nbformat": 4,
 "nbformat_minor": 2
}
