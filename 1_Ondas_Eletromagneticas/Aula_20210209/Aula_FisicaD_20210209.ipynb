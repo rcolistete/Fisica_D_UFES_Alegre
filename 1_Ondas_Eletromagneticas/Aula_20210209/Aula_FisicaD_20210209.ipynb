{
 "cells": [
  {
   "cell_type": "markdown",
   "metadata": {
    "slideshow": {
     "slide_type": "slide"
    }
   },
   "source": [
    "# Disciplina - DQF10440 Física D\n",
    "## Aula em 09/02/2021 - Semestre 2020/2 EARTE\n",
    "### [DQF - CCENS](http://alegre.ufes.br/ccens/departamento-de-quimica-e-fisica) - [UFES/Alegre](http://alegre.ufes.br/)"
   ]
  },
  {
   "cell_type": "markdown",
   "metadata": {
    "slideshow": {
     "slide_type": "slide"
    }
   },
   "source": [
    "# Exercícios ao vivo sobre operadores diferenciais vetoriais"
   ]
  },
  {
   "cell_type": "markdown",
   "metadata": {
    "slideshow": {
     "slide_type": "fragment"
    }
   },
   "source": [
    "### Exercícios sobre aplicação prática dos operadores diferenciais vetoriais gradiente, divergente, rotacional"
   ]
  },
  {
   "cell_type": "markdown",
   "metadata": {
    "slideshow": {
     "slide_type": "slide"
    }
   },
   "source": [
    "## Gradiente : $\\vec{\\nabla} f$"
   ]
  },
  {
   "cell_type": "markdown",
   "metadata": {
    "slideshow": {
     "slide_type": "fragment"
    }
   },
   "source": [
    "### Revisão"
   ]
  },
  {
   "cell_type": "markdown",
   "metadata": {
    "slideshow": {
     "slide_type": "fragment"
    }
   },
   "source": [
    "Gradiente é um operador diferencial vetorial que atua sobre função escalar e gera função vetorial."
   ]
  },
  {
   "cell_type": "markdown",
   "metadata": {
    "slideshow": {
     "slide_type": "subslide"
    }
   },
   "source": [
    "Operador diferencial vetorial gradiente (grad) em coordenadas cartesianas 2D $(x, y)$ :\n",
    "\n",
    "$$\\vec{\\nabla} = \\left\\langle \\frac{\\partial}{\\partial x}, \\frac{\\partial}{\\partial y}\\right\\rangle = \\frac{\\partial}{\\partial x}\\hat{i} + \\frac{\\partial}{\\partial y}\\hat{j} $$"
   ]
  },
  {
   "cell_type": "markdown",
   "metadata": {
    "slideshow": {
     "slide_type": "fragment"
    }
   },
   "source": [
    "em coordenadas polares $(\\rho, \\theta)$ :\n",
    "\n",
    "$$\\vec{\\nabla} = \\left\\langle \\frac{\\partial }{\\partial \\rho},\\frac{1}{\\rho}\\frac{\\partial }{\\partial \\theta }\\right\\rangle = \\frac{\\partial }{\\partial \\rho}\\hat{\\rho} + \\frac{1}{\\rho}\\frac{\\partial }{\\partial \\theta }\\hat{\\theta}$$"
   ]
  },
  {
   "cell_type": "markdown",
   "metadata": {
    "slideshow": {
     "slide_type": "subslide"
    }
   },
   "source": [
    "em coordenadas cartesianas 3D $(x, y, z)$ :\n",
    "\n",
    "$$\\vec{\\nabla}=\\left\\langle \\frac{\\partial }{\\partial x}, \\frac{\\partial }{\\partial y}, \\frac{\\partial }{\\partial z}\\right\\rangle = \\frac{\\partial}{\\partial x}\\hat{i} + \\frac{\\partial}{\\partial y}\\hat{j} + \\frac{\\partial}{\\partial z}\\hat{k}$$"
   ]
  },
  {
   "cell_type": "markdown",
   "metadata": {
    "slideshow": {
     "slide_type": "fragment"
    }
   },
   "source": [
    "Em coordenadas cilíndricas $(\\rho, \\theta, z)$ :\n",
    "\n",
    "$$\\vec{\\nabla}=\\left\\langle \\frac{\\partial }{\\partial \\rho},\\frac{1}{\\rho}\\frac{\\partial }{\\partial \\theta},\\frac{\\partial }{\\partial z}\\right\\rangle = \\frac{\\partial }{\\partial \\rho}\\hat{\\rho} + \\frac{1}{\\rho}\\frac{\\partial }{\\partial \\theta }\\hat{\\theta} + \\frac{\\partial }{\\partial z}\\hat{k} $$"
   ]
  },
  {
   "cell_type": "markdown",
   "metadata": {
    "slideshow": {
     "slide_type": "subslide"
    }
   },
   "source": [
    "Em coordenadas esféricas $(r, \\theta, \\phi)$ :\n",
    "\n",
    "$$\\vec{\\nabla}=\\left\\langle \\frac{\\partial }{\\partial r},\\frac{1}{r}\\frac{\\partial }{\\partial \\theta},\\frac{1}{r sen \\theta}\\frac{\\partial }{\\partial \\phi}\\right\\rangle = \\frac{\\partial }{\\partial r}\\hat{r} + \\frac{1}{r}\\frac{\\partial }{\\partial \\theta}\\hat{\\theta} + \\frac{1}{r sen \\theta}\\frac{\\partial }{\\partial \\phi}\\hat{\\phi}$$"
   ]
  },
  {
   "cell_type": "markdown",
   "metadata": {
    "slideshow": {
     "slide_type": "subslide"
    }
   },
   "source": [
    "Funções escalares comuns no Eletromagnetismo, etc :"
   ]
  },
  {
   "cell_type": "markdown",
   "metadata": {
    "slideshow": {
     "slide_type": "fragment"
    }
   },
   "source": [
    "1) Potencial elétrico em um capacitor infinito de placas planas :\n",
    "\n",
    "$$V(x)= k \\,x$$"
   ]
  },
  {
   "cell_type": "markdown",
   "metadata": {
    "slideshow": {
     "slide_type": "fragment"
    }
   },
   "source": [
    "2) Potencial elétrico de uma carga elétrica :\n",
    "\n",
    "$$V(r)=\\frac{q}{4\\,\\pi \\,\\epsilon _{0}\\,r}$$"
   ]
  },
  {
   "cell_type": "markdown",
   "metadata": {
    "slideshow": {
     "slide_type": "subslide"
    }
   },
   "source": [
    "3) Função genérica : $$V(r)=\\frac{1}{r^{2}}$$"
   ]
  },
  {
   "cell_type": "markdown",
   "metadata": {
    "slideshow": {
     "slide_type": "fragment"
    }
   },
   "source": [
    "4) Potencial elétrico de um dipolo elétrico :\n",
    "\n",
    "$$V(r,\\theta )=\\frac{p\\,\\cos \\theta }{4\\,\\pi \\,\\epsilon _{0}\\,r^{2}}$$"
   ]
  },
  {
   "cell_type": "markdown",
   "metadata": {
    "slideshow": {
     "slide_type": "fragment"
    }
   },
   "source": [
    "5) Potencial elétrico do átomo de Rutherford :\n",
    "\n",
    "$$V(r)=\\frac{Z\\ e}{4\\,\\pi \\,\\epsilon _{0}\\,}\\left( \\frac{1}{r}-\\frac{3}{2R}+%\n",
    "\\frac{r^{2}}{2R^{3}}\\right)$$"
   ]
  },
  {
   "cell_type": "markdown",
   "metadata": {
    "slideshow": {
     "slide_type": "subslide"
    }
   },
   "source": [
    "### 1) [Exercícios ao vivo propostos aos alunos] Calcule gradiente :"
   ]
  },
  {
   "cell_type": "markdown",
   "metadata": {
    "slideshow": {
     "slide_type": "fragment"
    }
   },
   "source": [
    "1.a) do potencial (1) em coordenadas cartesianas 2D;"
   ]
  },
  {
   "cell_type": "markdown",
   "metadata": {
    "slideshow": {
     "slide_type": "fragment"
    }
   },
   "source": [
    "1.b) do potencial (2) em coordenadas cartesianas 3D e em coordenadas esféricas;"
   ]
  },
  {
   "cell_type": "markdown",
   "metadata": {
    "slideshow": {
     "slide_type": "fragment"
    }
   },
   "source": [
    "1.c) do potencial (3) em coordenadas cartesianas 3D, coordenadas cilíndricas e em coordenadas esféricas;"
   ]
  },
  {
   "cell_type": "markdown",
   "metadata": {
    "slideshow": {
     "slide_type": "subslide"
    }
   },
   "source": [
    "1.d) do potencial (4) em coordenadas cartesianas 2D e em coordenadas polares;"
   ]
  },
  {
   "cell_type": "markdown",
   "metadata": {
    "slideshow": {
     "slide_type": "fragment"
    }
   },
   "source": [
    "1.e) do potencial (5) em em coordenadas cartesianas 3D e em coordenadas esféricas;"
   ]
  },
  {
   "cell_type": "markdown",
   "metadata": {},
   "source": [
    "#### Resolução :"
   ]
  },
  {
   "cell_type": "markdown",
   "metadata": {
    "slideshow": {
     "slide_type": "subslide"
    }
   },
   "source": [
    "Ex. 2 - coord. esféricas :"
   ]
  },
  {
   "cell_type": "markdown",
   "metadata": {
    "slideshow": {
     "slide_type": "fragment"
    }
   },
   "source": [
    "$$\\vec{\\nabla}\\,V(r) = \\frac{\\partial\\,V(r)}{\\partial r}\\hat{r} + \\frac{1}{r}\\frac{\\partial \\,V(r)}{\\partial \\theta}\\hat{\\theta} + \\frac{1}{r sen \\theta}\\frac{\\partial\\,V(r)}{\\partial \\phi}\\hat{\\phi}$$"
   ]
  },
  {
   "cell_type": "markdown",
   "metadata": {
    "slideshow": {
     "slide_type": "fragment"
    }
   },
   "source": [
    "$$\\vec{\\nabla}\\left(\\frac{q}{4\\,\\pi \\,\\epsilon _{0}\\,r}\\right) = \\frac{q}{4\\,\\pi \\,\\epsilon _{0}} \\left[ \\frac{\\partial}{\\partial r}\\frac{1}{r}\\hat{r} + \\frac{1}{r}\\frac{\\partial }{\\partial \\theta}\\frac{1}{r}\\hat{\\theta} + \\frac{1}{r sen \\theta}\\frac{\\partial}{\\partial \\phi}\\frac{1}{r}\\hat{\\phi} \\right]$$"
   ]
  },
  {
   "cell_type": "markdown",
   "metadata": {
    "slideshow": {
     "slide_type": "subslide"
    }
   },
   "source": [
    "$$\\vec{\\nabla}\\left(\\frac{q}{4\\,\\pi \\,\\epsilon _{0}\\,r}\\right) = \\frac{q}{4\\,\\pi \\,\\epsilon _{0}} \\left[ -\\frac{1}{r^2}\\hat{r} + 0\\,\\hat{\\theta} + 0\\,\\hat{\\phi} \\right]$$"
   ]
  },
  {
   "cell_type": "markdown",
   "metadata": {
    "slideshow": {
     "slide_type": "fragment"
    }
   },
   "source": [
    "$$\\vec{\\nabla}\\,V(r) = \\vec{\\nabla}\\left(\\frac{q}{4\\,\\pi \\,\\epsilon _{0}\\,r}\\right) = - \\frac{q}{4\\,\\pi \\,\\epsilon_{0} r^2} \\hat{r}$$"
   ]
  },
  {
   "cell_type": "markdown",
   "metadata": {
    "slideshow": {
     "slide_type": "slide"
    }
   },
   "source": [
    "## Divergente : $\\vec{\\nabla} \\cdot \\vec{F}$"
   ]
  },
  {
   "cell_type": "markdown",
   "metadata": {
    "slideshow": {
     "slide_type": "fragment"
    }
   },
   "source": [
    "### Revisão"
   ]
  },
  {
   "cell_type": "markdown",
   "metadata": {
    "slideshow": {
     "slide_type": "fragment"
    }
   },
   "source": [
    "Divergente é um operador diferencial vetorial que atua sobre função vetorial e gera função escalar."
   ]
  },
  {
   "cell_type": "markdown",
   "metadata": {
    "slideshow": {
     "slide_type": "fragment"
    }
   },
   "source": [
    "Em coordenadas cartesianas 3D $(x, y, z)$ :\n",
    "\n",
    "$$\\vec{\\nabla} \\cdot \\vec{F} = \\frac{\\partial F_x}{\\partial x} + \\frac{\\partial F_y}{\\partial y} + \\frac{\\partial F_z}{\\partial z} $$"
   ]
  },
  {
   "cell_type": "markdown",
   "metadata": {
    "slideshow": {
     "slide_type": "subslide"
    }
   },
   "source": [
    "em coordenadas cilíndricas $(\\rho, \\theta, z)$ :\n",
    "\n",
    "$$\\vec{\\nabla} \\cdot \\vec{F} = \\frac{1}{\\rho}\\frac{\\partial\\,(\\rho F_{\\rho})}{\\partial \\rho} + \\frac{1}{\\rho}\\frac{\\partial F_{\\theta}}{\\partial \\theta} + \\frac{\\partial F_z}{\\partial z} $$"
   ]
  },
  {
   "cell_type": "markdown",
   "metadata": {
    "slideshow": {
     "slide_type": "fragment"
    }
   },
   "source": [
    "em coordenadas esféricas $(r, \\theta, \\phi)$ :\n",
    "\n",
    "$$\\vec{\\nabla} \\cdot \\vec{F} = \\frac{1}{r^2} \\frac{\\partial\\,(r^2 F_r)}{\\partial r} + \\frac{1}{r sen \\theta}\\frac{\\partial\\,(sen \\theta F_{\\theta})}{\\partial \\theta} + \\frac{1}{r sen \\theta}\\frac{\\partial F_\\phi}{\\partial \\phi} $$"
   ]
  },
  {
   "cell_type": "markdown",
   "metadata": {
    "slideshow": {
     "slide_type": "subslide"
    }
   },
   "source": [
    "### 1) [Exercícios ao vivo propostos aos alunos] Calcule divergente :"
   ]
  },
  {
   "cell_type": "markdown",
   "metadata": {
    "slideshow": {
     "slide_type": "fragment"
    }
   },
   "source": [
    "1.a) Calcule o divergente em coordenadas esféricas, coordenadas cartesianas 3D e coordenadas cilíndricas. Ao final o resultado deve ser o mesmo, verifique. Sugestão, primeiro escreva a função vetorial (no caso o vetor posição $\\vec{r}$) no sistema de coordenadas respectivo :\n",
    "\n",
    "$$\\vec{\\nabla} \\cdot \\vec{r}$$"
   ]
  },
  {
   "cell_type": "markdown",
   "metadata": {
    "slideshow": {
     "slide_type": "subslide"
    }
   },
   "source": [
    "1.b) Calcule o divergente em coordenadas esféricas e coordenadas cilíndricas. Ao final o resultado deve ser o mesmo, verifique. Sugestão, primeiro escreva a função vetorial no sistema de coordenadas respectivo :\n",
    "\n",
    "$$\\vec{\\nabla} \\cdot \\left( \\frac{\\hat{r}}{r} \\right)$$"
   ]
  },
  {
   "cell_type": "markdown",
   "metadata": {
    "slideshow": {
     "slide_type": "fragment"
    }
   },
   "source": [
    "1.c) Calcule o divergente em coordenadas esféricas. Sem e com delta de Dirac :\n",
    "\n",
    "$$\\vec{\\nabla} \\cdot \\left( \\frac{\\hat{r}}{r^2} \\right)$$"
   ]
  },
  {
   "cell_type": "markdown",
   "metadata": {
    "slideshow": {
     "slide_type": "fragment"
    }
   },
   "source": [
    "Os alunos não se voluntariaram e não fizeram nenhum dos exercícios de divergente ao vivo propostos em 20/11/2020."
   ]
  },
  {
   "cell_type": "markdown",
   "metadata": {
    "slideshow": {
     "slide_type": "subslide"
    }
   },
   "source": [
    "1.a) Resolução do professor em coordenadas esféricas :"
   ]
  },
  {
   "cell_type": "markdown",
   "metadata": {
    "slideshow": {
     "slide_type": "fragment"
    }
   },
   "source": [
    "$$\\vec{r} = r\\,\\hat{r} = \\vec{F} = F_r \\hat{r} + 0\\,\\hat{\\theta} + 0\\,\\hat{\\phi}$$\n",
    "\n",
    "$$F_r = r \\quad,\\quad F_{\\theta} = 0 \\quad,\\quad F_\\phi = 0 $$"
   ]
  },
  {
   "cell_type": "markdown",
   "metadata": {
    "slideshow": {
     "slide_type": "fragment"
    }
   },
   "source": [
    "Note que a expressão do divergente em coordenadas esféricas só é válida para $(r \\ne 0\\,m)$ e $(sen\\,\\theta \\ne 0)$ : "
   ]
  },
  {
   "cell_type": "markdown",
   "metadata": {
    "slideshow": {
     "slide_type": "fragment"
    }
   },
   "source": [
    "$$\\vec{\\nabla} \\cdot \\vec{F} = \\frac{1}{r^2} \\frac{\\partial\\,(r^2 F_r)}{\\partial r} + \\frac{1}{r sen \\theta}\\frac{\\partial\\,(sen \\theta F_{\\theta})}{\\partial \\theta} + \\frac{1}{r sen \\theta}\\frac{\\partial\\,F_\\phi}{\\partial \\phi} $$"
   ]
  },
  {
   "cell_type": "markdown",
   "metadata": {
    "slideshow": {
     "slide_type": "subslide"
    }
   },
   "source": [
    "Logo :"
   ]
  },
  {
   "cell_type": "markdown",
   "metadata": {
    "slideshow": {
     "slide_type": "fragment"
    }
   },
   "source": [
    "$$\\vec{\\nabla} \\cdot \\vec{r} = \\vec{\\nabla} \\cdot (r\\,\\hat{r}) = \\frac{1}{r^2} \\frac{\\partial\\,(r^2 r)}{\\partial r} = 3 \\frac{r^2}{r^2} = 3$$"
   ]
  },
  {
   "cell_type": "markdown",
   "metadata": {
    "slideshow": {
     "slide_type": "fragment"
    }
   },
   "source": [
    "Falta os alunos fazerem em coodenadas cartesianas 3D e cilíndricas para verificar que o resultado é o mesmo, igual a $3$."
   ]
  },
  {
   "cell_type": "markdown",
   "metadata": {
    "slideshow": {
     "slide_type": "fragment"
    }
   },
   "source": [
    "O resultado de um operador diferencial vetorial não deve depender do sistema de coordenadas escolhido."
   ]
  }
 ],
 "metadata": {
  "celltoolbar": "Slideshow",
  "kernelspec": {
   "display_name": "Python 3",
   "language": "python",
   "name": "python3"
  },
  "language_info": {
   "codemirror_mode": {
    "name": "ipython",
    "version": 3
   },
   "file_extension": ".py",
   "mimetype": "text/x-python",
   "name": "python",
   "nbconvert_exporter": "python",
   "pygments_lexer": "ipython3",
   "version": "3.8.3"
  }
 },
 "nbformat": 4,
 "nbformat_minor": 2
}
