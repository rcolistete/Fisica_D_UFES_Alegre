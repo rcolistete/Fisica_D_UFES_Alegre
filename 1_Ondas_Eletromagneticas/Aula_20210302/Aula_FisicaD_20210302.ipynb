{
 "cells": [
  {
   "cell_type": "markdown",
   "metadata": {
    "slideshow": {
     "slide_type": "slide"
    }
   },
   "source": [
    "# Disciplina - DQF10440 Física D\n",
    "## Aula em 02/03/2021 - Semestre 2020/2 EARTE\n",
    "### [DQF - CCENS](http://alegre.ufes.br/ccens/departamento-de-quimica-e-fisica) - [UFES/Alegre](http://alegre.ufes.br/)"
   ]
  },
  {
   "cell_type": "markdown",
   "metadata": {
    "slideshow": {
     "slide_type": "slide"
    }
   },
   "source": [
    "# Recomendação de sites de referência em Matemática, Física, etc"
   ]
  },
  {
   "cell_type": "markdown",
   "metadata": {
    "slideshow": {
     "slide_type": "fragment"
    }
   },
   "source": [
    "- o site [Wolfram Demonstrations](https://demonstrations.wolfram.com/) com mais de 12 mil demonstrações interativas de várias áreas, incluindo Matemática e Física;"
   ]
  },
  {
   "cell_type": "markdown",
   "metadata": {
    "slideshow": {
     "slide_type": "fragment"
    }
   },
   "source": [
    "- o site [Wolfram MathWorld](https://mathworld.wolfram.com/) é algo como um dicionário, uma enciclopédia, sobre Matemática. Tem explicações, expressões matemáticas, gráficos, referências, etc;"
   ]
  },
  {
   "cell_type": "markdown",
   "metadata": {
    "slideshow": {
     "slide_type": "fragment"
    }
   },
   "source": [
    "- o site [HandWiki](https://handwiki.org/wiki/) é uma enciclopédia de Ciência e Computação, bem completa na área de Matemática, Física, etc. Por exemplo, sobre espectro eletromagnético [Physics:Electromagnetic spectrum](https://handwiki.org/wiki/Physics:Electromagnetic_spectrum)."
   ]
  },
  {
   "cell_type": "markdown",
   "metadata": {
    "slideshow": {
     "slide_type": "slide"
    }
   },
   "source": [
    "# Vetor de Poynting e Transporte de Energia da Luz/Onda Eletromagnética"
   ]
  },
  {
   "cell_type": "markdown",
   "metadata": {
    "slideshow": {
     "slide_type": "fragment"
    }
   },
   "source": [
    "## Pesquisa dos alunos"
   ]
  },
  {
   "cell_type": "markdown",
   "metadata": {
    "slideshow": {
     "slide_type": "fragment"
    }
   },
   "source": [
    "Sobre vetor Poynting :"
   ]
  },
  {
   "cell_type": "markdown",
   "metadata": {
    "slideshow": {
     "slide_type": "fragment"
    }
   },
   "source": [
    "André :\n",
    "- [Poynting Vector - HandWiki](https://handwiki.org/wiki/Poynting_vector);\n",
    "- [Fields and Poynting Vector around a Transformer - Wolfram Demonstrations](https://demonstrations.wolfram.com/FieldsAndPoyntingVectorAroundATransformer/);\n",
    "- [Poynting Vector - Brilliant.org Wiki](https://brilliant.org/wiki/poynting-vector/);"
   ]
  },
  {
   "cell_type": "markdown",
   "metadata": {
    "slideshow": {
     "slide_type": "subslide"
    }
   },
   "source": [
    "Júlia  :\n",
    "- [Electromagnetic Wave from Dipole over a Perfect Conductor - Wolfram Demonstrations](https://demonstrations.wolfram.com/ElectromagneticWaveFromDipoleOverAPerfectConductor/);"
   ]
  },
  {
   "cell_type": "markdown",
   "metadata": {
    "slideshow": {
     "slide_type": "fragment"
    }
   },
   "source": [
    "Erasmus :\n",
    "- [Vetor de Poynting - por Ricardo Magnus Osorio Galvao - USP](http://eaulas.usp.br/portal/video.action?idItem=9898)"
   ]
  },
  {
   "cell_type": "markdown",
   "metadata": {
    "slideshow": {
     "slide_type": "subslide"
    }
   },
   "source": [
    "Sobre valor RMS :"
   ]
  },
  {
   "cell_type": "markdown",
   "metadata": {
    "slideshow": {
     "slide_type": "fragment"
    }
   },
   "source": [
    "Erasmus :\n",
    "- http://mundoprojetado.com.br/tensao-eficaz-ou-rms/;"
   ]
  },
  {
   "cell_type": "markdown",
   "metadata": {
    "slideshow": {
     "slide_type": "fragment"
    }
   },
   "source": [
    "Paulo A. :\n",
    "- https://www.decom.fee.unicamp.br/~cardieri/NotasdeAula_EA513/EA513_NotasAula_24.pdf"
   ]
  },
  {
   "cell_type": "markdown",
   "metadata": {
    "slideshow": {
     "slide_type": "subslide"
    }
   },
   "source": [
    "## Teoria"
   ]
  },
  {
   "cell_type": "markdown",
   "metadata": {
    "slideshow": {
     "slide_type": "fragment"
    }
   },
   "source": [
    "Lembrando :\n",
    "- $\\vec{v} \\propto$ vetor unitário na direção de propagação da onda eletromagnética;\n",
    "- $\\vec{E} \\perp \\vec{v}$;\n",
    "- $\\vec{B} \\perp \\vec{v}$;\n",
    "- $\\vec{E} \\perp \\vec{B}$;\n",
    "- tal que $\\vec{E} \\times \\vec{B} \\propto \\vec{v}$."
   ]
  },
  {
   "cell_type": "markdown",
   "metadata": {
    "slideshow": {
     "slide_type": "subslide"
    }
   },
   "source": [
    "O vetor de Poynting $\\vec{S}$ aponta na direção e sentido do vetor velocidade $\\vec{v}$ de propagação da luz/onda eletromagnética :"
   ]
  },
  {
   "cell_type": "markdown",
   "metadata": {
    "slideshow": {
     "slide_type": "fragment"
    }
   },
   "source": [
    "$$\\vec{S} = \\frac{1}{\\mu_0} \\vec{E} \\times \\vec{B}$$"
   ]
  },
  {
   "cell_type": "markdown",
   "metadata": {
    "slideshow": {
     "slide_type": "fragment"
    }
   },
   "source": [
    "$$\\vec{S} = S \\hat{s}$$"
   ]
  },
  {
   "cell_type": "markdown",
   "metadata": {
    "slideshow": {
     "slide_type": "fragment"
    }
   },
   "source": [
    "$$S \\propto \\frac{W}{m^2}$$"
   ]
  },
  {
   "cell_type": "markdown",
   "metadata": {
    "slideshow": {
     "slide_type": "subslide"
    }
   },
   "source": [
    "Como na luz/onda eletromagnética sempre $\\vec{E}$ e $\\vec{B}$ são ortogonais entre si (ângulo $\\phi = \\pi/2$ rad entre eles), então o produto vetorial fica simplificado, bem como o escalar/módulo de $\\vec{S}$ :"
   ]
  },
  {
   "cell_type": "markdown",
   "metadata": {
    "slideshow": {
     "slide_type": "fragment"
    }
   },
   "source": [
    "$$S = \\frac{1}{\\mu_0} E B \\sin{\\phi}$$"
   ]
  },
  {
   "cell_type": "markdown",
   "metadata": {
    "slideshow": {
     "slide_type": "fragment"
    }
   },
   "source": [
    "$$S = \\frac{1}{\\mu_0} E B \\sin{\\left(\\frac{\\pi}{2}\\right)}$$"
   ]
  },
  {
   "cell_type": "markdown",
   "metadata": {
    "slideshow": {
     "slide_type": "fragment"
    }
   },
   "source": [
    "$$S = \\frac{1}{\\mu_0} E B$$"
   ]
  },
  {
   "cell_type": "markdown",
   "metadata": {
    "slideshow": {
     "slide_type": "subslide"
    }
   },
   "source": [
    "Como $\\vec{E}$ e $\\vec{B}$ não são independentes na luz/onda eletromagnética, lembrando :"
   ]
  },
  {
   "cell_type": "markdown",
   "metadata": {
    "slideshow": {
     "slide_type": "fragment"
    }
   },
   "source": [
    "$$B_0 = \\frac{E_0}{c}$$"
   ]
  },
  {
   "cell_type": "markdown",
   "metadata": {
    "slideshow": {
     "slide_type": "fragment"
    }
   },
   "source": [
    "$$c = \\frac{1}{\\sqrt{\\mu_0\\,\\epsilon_0}}$$"
   ]
  },
  {
   "cell_type": "markdown",
   "metadata": {
    "slideshow": {
     "slide_type": "fragment"
    }
   },
   "source": [
    "Então :"
   ]
  },
  {
   "cell_type": "markdown",
   "metadata": {
    "slideshow": {
     "slide_type": "fragment"
    }
   },
   "source": [
    "$$S = \\frac{1}{\\mu_0} \\frac{E E}{c} \\,\\,\\, \\rightarrow \\,\\,\\, S = \\frac{E^2}{\\mu_0 c}$$"
   ]
  },
  {
   "cell_type": "markdown",
   "metadata": {
    "slideshow": {
     "slide_type": "subslide"
    }
   },
   "source": [
    "Ou :"
   ]
  },
  {
   "cell_type": "markdown",
   "metadata": {
    "slideshow": {
     "slide_type": "fragment"
    }
   },
   "source": [
    "$$S = \\frac{1}{\\mu_0} (B\\,c) B \\,\\,\\, \\rightarrow \\,\\,\\, S = \\frac{B^2 c}{\\mu_0}$$"
   ]
  },
  {
   "cell_type": "markdown",
   "metadata": {
    "slideshow": {
     "slide_type": "subslide"
    }
   },
   "source": [
    "### Valor médio do vetor de Poynting,  $\\overline{S}$"
   ]
  },
  {
   "cell_type": "markdown",
   "metadata": {
    "slideshow": {
     "slide_type": "fragment"
    }
   },
   "source": [
    "$$\\overline{S} = \\frac{\\overline{E^2}}{\\mu_0 c}$$"
   ]
  },
  {
   "cell_type": "markdown",
   "metadata": {
    "slideshow": {
     "slide_type": "fragment"
    }
   },
   "source": [
    "pode ser escrito usando valor RMS (Root Mean Square, raíz quadrada da média ao quadrado) ou valor eficaz :"
   ]
  },
  {
   "cell_type": "markdown",
   "metadata": {
    "slideshow": {
     "slide_type": "fragment"
    }
   },
   "source": [
    "$$E_{rms} = \\sqrt{\\overline{E^2}}$$"
   ]
  },
  {
   "cell_type": "markdown",
   "metadata": {
    "slideshow": {
     "slide_type": "fragment"
    }
   },
   "source": [
    "$$\\overline{S} = \\frac{E_{rms}^2}{\\mu_0 c}$$"
   ]
  },
  {
   "cell_type": "markdown",
   "metadata": {
    "slideshow": {
     "slide_type": "subslide"
    }
   },
   "source": [
    "A demonstrar depois (é devido ao comportamento senoidal da onda eletromagnética) :"
   ]
  },
  {
   "cell_type": "markdown",
   "metadata": {
    "slideshow": {
     "slide_type": "fragment"
    }
   },
   "source": [
    "$$E_{rms} = \\frac{E_m}{\\sqrt{2}}$$"
   ]
  },
  {
   "cell_type": "markdown",
   "metadata": {
    "slideshow": {
     "slide_type": "fragment"
    }
   },
   "source": [
    "Ou seja :"
   ]
  },
  {
   "cell_type": "markdown",
   "metadata": {
    "slideshow": {
     "slide_type": "fragment"
    }
   },
   "source": [
    "$$\\overline{S} = \\frac{E_{rms} B_{rms}}{\\mu_0} = \\frac{E_{rms}^2}{\\mu_0 c} = \\frac{B_{rms}^2 c}{\\mu_0}$$"
   ]
  },
  {
   "cell_type": "markdown",
   "metadata": {
    "slideshow": {
     "slide_type": "fragment"
    }
   },
   "source": [
    "$$\\overline{S} = \\frac{E_{m} B_{m}}{2 \\mu_0} = \\frac{E_{m}^2}{2 \\mu_0 c} = \\frac{B_{m}^2 c}{2 \\mu_0}$$"
   ]
  },
  {
   "cell_type": "markdown",
   "metadata": {
    "slideshow": {
     "slide_type": "subslide"
    }
   },
   "source": [
    "### Irradiância $I$ e potência $P$ da luz/onda eletromagnética"
   ]
  },
  {
   "cell_type": "markdown",
   "metadata": {
    "slideshow": {
     "slide_type": "fragment"
    }
   },
   "source": [
    "Irradiância $I$ é definida como potência por área, logo :"
   ]
  },
  {
   "cell_type": "markdown",
   "metadata": {
    "slideshow": {
     "slide_type": "fragment"
    }
   },
   "source": [
    "$$I = \\overline{S} $$"
   ]
  },
  {
   "cell_type": "markdown",
   "metadata": {
    "slideshow": {
     "slide_type": "fragment"
    }
   },
   "source": [
    "$$I = \\overline{S} = \\frac{P}{A}$$"
   ]
  },
  {
   "cell_type": "markdown",
   "metadata": {
    "slideshow": {
     "slide_type": "fragment"
    }
   },
   "source": [
    "Para uma onda eletromagnética emitida por fonte pontual, a frente de onda é esférica, com área de superfície de esfera de raio $R$ :"
   ]
  },
  {
   "cell_type": "markdown",
   "metadata": {
    "slideshow": {
     "slide_type": "fragment"
    }
   },
   "source": [
    "$$I = \\overline{S} = \\frac{P}{4 \\pi R^2}$$"
   ]
  },
  {
   "cell_type": "markdown",
   "metadata": {
    "slideshow": {
     "slide_type": "subslide"
    }
   },
   "source": [
    "## Exercício"
   ]
  },
  {
   "cell_type": "markdown",
   "metadata": {
    "slideshow": {
     "slide_type": "fragment"
    }
   },
   "source": [
    "(Continua na próxima aula)"
   ]
  },
  {
   "cell_type": "markdown",
   "metadata": {
    "slideshow": {
     "slide_type": "subslide"
    }
   },
   "source": [
    "Alunos não viram (direito) :\n",
    "- valor RMS;\n",
    "- onda plana;\n",
    "- transformadores;\n",
    "- casamento de impedância ?"
   ]
  }
 ],
 "metadata": {
  "celltoolbar": "Slideshow",
  "kernelspec": {
   "display_name": "Python 3",
   "language": "python",
   "name": "python3"
  },
  "language_info": {
   "codemirror_mode": {
    "name": "ipython",
    "version": 3
   },
   "file_extension": ".py",
   "mimetype": "text/x-python",
   "name": "python",
   "nbconvert_exporter": "python",
   "pygments_lexer": "ipython3",
   "version": "3.8.3"
  }
 },
 "nbformat": 4,
 "nbformat_minor": 2
}
