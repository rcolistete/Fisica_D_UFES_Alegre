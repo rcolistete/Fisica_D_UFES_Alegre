{
 "cells": [
  {
   "cell_type": "markdown",
   "metadata": {
    "slideshow": {
     "slide_type": "slide"
    }
   },
   "source": [
    "# Disciplina - DQF10440 Física D\n",
    "## Aula em 04/02/2021 - Semestre 2020/2 EARTE\n",
    "### [DQF - CCENS](http://alegre.ufes.br/ccens/departamento-de-quimica-e-fisica) - [UFES/Alegre](http://alegre.ufes.br/)"
   ]
  },
  {
   "cell_type": "markdown",
   "metadata": {
    "slideshow": {
     "slide_type": "slide"
    }
   },
   "source": [
    "# Exercícios ao vivo sobre operadores diferenciais vetoriais"
   ]
  },
  {
   "cell_type": "markdown",
   "metadata": {
    "slideshow": {
     "slide_type": "fragment"
    }
   },
   "source": [
    "### Exercícios sobre aplicação prática dos operadores diferenciais vetoriais gradiente, divergente, rotacional"
   ]
  },
  {
   "cell_type": "markdown",
   "metadata": {
    "slideshow": {
     "slide_type": "slide"
    }
   },
   "source": [
    "## Gradiente : $\\vec{\\nabla} f$"
   ]
  },
  {
   "cell_type": "markdown",
   "metadata": {
    "slideshow": {
     "slide_type": "fragment"
    }
   },
   "source": [
    "### Revisão"
   ]
  },
  {
   "cell_type": "markdown",
   "metadata": {
    "slideshow": {
     "slide_type": "fragment"
    }
   },
   "source": [
    "Gradiente é um operador diferencial vetorial que atua sobre função escalar e gera função vetorial."
   ]
  },
  {
   "cell_type": "markdown",
   "metadata": {
    "slideshow": {
     "slide_type": "subslide"
    }
   },
   "source": [
    "Operador diferencial vetorial gradiente (grad) em coordenadas cartesianas 2D $(x, y)$ :\n",
    "\n",
    "$$\\vec{\\nabla} = \\left\\langle \\frac{\\partial}{\\partial x}, \\frac{\\partial}{\\partial y}\\right\\rangle = \\frac{\\partial}{\\partial x}\\hat{i} + \\frac{\\partial}{\\partial y}\\hat{j} $$"
   ]
  },
  {
   "cell_type": "markdown",
   "metadata": {
    "slideshow": {
     "slide_type": "fragment"
    }
   },
   "source": [
    "em coordenadas polares $(\\rho, \\theta)$ :\n",
    "\n",
    "$$\\vec{\\nabla} = \\left\\langle \\frac{\\partial }{\\partial \\rho},\\frac{1}{\\rho}\\frac{\\partial }{\\partial \\theta }\\right\\rangle = \\frac{\\partial }{\\partial \\rho}\\hat{\\rho} + \\frac{1}{\\rho}\\frac{\\partial }{\\partial \\theta }\\hat{\\theta}$$"
   ]
  },
  {
   "cell_type": "markdown",
   "metadata": {
    "slideshow": {
     "slide_type": "subslide"
    }
   },
   "source": [
    "em coordenadas cartesianas 3D $(x, y, z)$ :\n",
    "\n",
    "$$\\vec{\\nabla}=\\left\\langle \\frac{\\partial }{\\partial x}, \\frac{\\partial }{\\partial y}, \\frac{\\partial }{\\partial z}\\right\\rangle = \\frac{\\partial}{\\partial x}\\hat{i} + \\frac{\\partial}{\\partial y}\\hat{j} + \\frac{\\partial}{\\partial z}\\hat{k}$$"
   ]
  },
  {
   "cell_type": "markdown",
   "metadata": {
    "slideshow": {
     "slide_type": "fragment"
    }
   },
   "source": [
    "Em coordenadas cilíndricas $(\\rho, \\theta, z)$ :\n",
    "\n",
    "$$\\vec{\\nabla}=\\left\\langle \\frac{\\partial }{\\partial \\rho},\\frac{1}{\\rho}\\frac{\\partial }{\\partial \\theta},\\frac{\\partial }{\\partial z}\\right\\rangle = \\frac{\\partial }{\\partial \\rho}\\hat{\\rho} + \\frac{1}{\\rho}\\frac{\\partial }{\\partial \\theta }\\hat{\\theta} + \\frac{\\partial }{\\partial z}\\hat{k} $$"
   ]
  },
  {
   "cell_type": "markdown",
   "metadata": {
    "slideshow": {
     "slide_type": "subslide"
    }
   },
   "source": [
    "Em coordenadas esféricas $(r, \\theta, \\phi)$ :\n",
    "\n",
    "$$\\vec{\\nabla}=\\left\\langle \\frac{\\partial }{\\partial r},\\frac{1}{r}\\frac{\\partial }{\\partial \\theta},\\frac{1}{r sen \\theta}\\frac{\\partial }{\\partial \\phi}\\right\\rangle = \\frac{\\partial }{\\partial r}\\hat{r} + \\frac{1}{r}\\frac{\\partial }{\\partial \\theta}\\hat{\\theta} + \\frac{1}{r sen \\theta}\\frac{\\partial }{\\partial \\phi}\\hat{\\phi}$$"
   ]
  },
  {
   "cell_type": "markdown",
   "metadata": {
    "slideshow": {
     "slide_type": "subslide"
    }
   },
   "source": [
    "Funções escalares comuns no Eletromagnetismo, etc :"
   ]
  },
  {
   "cell_type": "markdown",
   "metadata": {
    "slideshow": {
     "slide_type": "fragment"
    }
   },
   "source": [
    "1) Potencial elétrico em um capacitor infinito de placas planas :\n",
    "\n",
    "$$V(x)= k \\,x$$"
   ]
  },
  {
   "cell_type": "markdown",
   "metadata": {
    "slideshow": {
     "slide_type": "fragment"
    }
   },
   "source": [
    "2) Potencial elétrico de uma carga elétrica :\n",
    "\n",
    "$$V(r)=\\frac{q}{4\\,\\pi \\,\\epsilon _{0}\\,r}$$"
   ]
  },
  {
   "cell_type": "markdown",
   "metadata": {
    "slideshow": {
     "slide_type": "subslide"
    }
   },
   "source": [
    "3) Função genérica : $$V(r)=\\frac{1}{r^{2}}$$"
   ]
  },
  {
   "cell_type": "markdown",
   "metadata": {
    "slideshow": {
     "slide_type": "fragment"
    }
   },
   "source": [
    "4) Potencial elétrico de um dipolo elétrico :\n",
    "\n",
    "$$V(r,\\theta )=\\frac{p\\,\\cos \\theta }{4\\,\\pi \\,\\epsilon _{0}\\,r^{2}}$$"
   ]
  },
  {
   "cell_type": "markdown",
   "metadata": {
    "slideshow": {
     "slide_type": "fragment"
    }
   },
   "source": [
    "5) Potencial elétrico do átomo de Rutherford :\n",
    "\n",
    "$$V(r)=\\frac{Z\\ e}{4\\,\\pi \\,\\epsilon _{0}\\,}\\left( \\frac{1}{r}-\\frac{3}{2R}+%\n",
    "\\frac{r^{2}}{2R^{3}}\\right)$$"
   ]
  },
  {
   "cell_type": "markdown",
   "metadata": {
    "slideshow": {
     "slide_type": "subslide"
    }
   },
   "source": [
    "### 1) [Exercícios ao vivo propostos aos alunos] Calcule gradiente :"
   ]
  },
  {
   "cell_type": "markdown",
   "metadata": {
    "slideshow": {
     "slide_type": "fragment"
    }
   },
   "source": [
    "1.a) do potencial (1) em coordenadas cartesianas 2D;"
   ]
  },
  {
   "cell_type": "markdown",
   "metadata": {
    "slideshow": {
     "slide_type": "fragment"
    }
   },
   "source": [
    "1.b) do potencial (2) em coordenadas cartesianas 3D e em coordenadas esféricas;"
   ]
  },
  {
   "cell_type": "markdown",
   "metadata": {
    "slideshow": {
     "slide_type": "fragment"
    }
   },
   "source": [
    "1.c) do potencial (3) em coordenadas cartesianas 3D, coordenadas cilíndricas e em coordenadas esféricas;"
   ]
  },
  {
   "cell_type": "markdown",
   "metadata": {
    "slideshow": {
     "slide_type": "subslide"
    }
   },
   "source": [
    "1.d) do potencial (4) em coordenadas cartesianas 2D e em coordenadas polares;"
   ]
  },
  {
   "cell_type": "markdown",
   "metadata": {
    "slideshow": {
     "slide_type": "fragment"
    }
   },
   "source": [
    "1.e) do potencial (5) em em coordenadas cartesianas 3D e em coordenadas esféricas;"
   ]
  }
 ],
 "metadata": {
  "celltoolbar": "Slideshow",
  "kernelspec": {
   "display_name": "Python 3",
   "language": "python",
   "name": "python3"
  },
  "language_info": {
   "codemirror_mode": {
    "name": "ipython",
    "version": 3
   },
   "file_extension": ".py",
   "mimetype": "text/x-python",
   "name": "python",
   "nbconvert_exporter": "python",
   "pygments_lexer": "ipython3",
   "version": "3.8.3"
  }
 },
 "nbformat": 4,
 "nbformat_minor": 2
}
