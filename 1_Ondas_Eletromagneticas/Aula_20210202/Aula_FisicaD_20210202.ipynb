{
 "cells": [
  {
   "cell_type": "markdown",
   "metadata": {
    "slideshow": {
     "slide_type": "slide"
    }
   },
   "source": [
    "# Disciplina - DQF10440 Física D\n",
    "## Aula em 02/02/2021 - Semestre 2020/2 EARTE\n",
    "### [DQF - CCENS](http://alegre.ufes.br/ccens/departamento-de-quimica-e-fisica) - [UFES/Alegre](http://alegre.ufes.br/)"
   ]
  },
  {
   "cell_type": "markdown",
   "metadata": {
    "slideshow": {
     "slide_type": "slide"
    }
   },
   "source": [
    "# Ementa"
   ]
  },
  {
   "cell_type": "markdown",
   "metadata": {
    "slideshow": {
     "slide_type": "fragment"
    }
   },
   "source": [
    "- Ondas eletromagnéticas;\n",
    "- Natureza e Propagação da Luz;\n",
    "- Interferência;\n",
    "- Difração;\n",
    "- Relatividade;\n",
    "- Fótons e Ondas de Matéria;\n",
    "- Mecânica Quântica;\n",
    "- Física Nuclear."
   ]
  },
  {
   "cell_type": "markdown",
   "metadata": {
    "slideshow": {
     "slide_type": "slide"
    }
   },
   "source": [
    "# Conteúdo Programático"
   ]
  },
  {
   "cell_type": "markdown",
   "metadata": {
    "slideshow": {
     "slide_type": "fragment"
    }
   },
   "source": [
    "1. Ondas Eletromagnéticas: Equações de Maxwell. Propriedades das ondas eletromagnéticas. Vetor de Poynting. Pressão de radiação. Polarização;"
   ]
  },
  {
   "cell_type": "markdown",
   "metadata": {
    "slideshow": {
     "slide_type": "fragment"
    }
   },
   "source": [
    "2. Reflexão, refração e difração da luz;"
   ]
  },
  {
   "cell_type": "markdown",
   "metadata": {
    "slideshow": {
     "slide_type": "fragment"
    }
   },
   "source": [
    "3. Interferência: A luz como uma onda. Difração. Experimento de Young. Coerência. Interferência em filmes finos;"
   ]
  },
  {
   "cell_type": "markdown",
   "metadata": {
    "slideshow": {
     "slide_type": "fragment"
    }
   },
   "source": [
    "4. Difração: Difração e a teoria ondulatória da luz. Difração por uma fenda simples: posições dos mínimos;"
   ]
  },
  {
   "cell_type": "markdown",
   "metadata": {
    "slideshow": {
     "slide_type": "subslide"
    }
   },
   "source": [
    "5. Relatividade: Os postulados da relatividade. Evento e simultaneidade. A relatividade do tempo e da distância. Transformações de Lorentz. A nova interpretação da energia e do momento linear;"
   ]
  },
  {
   "cell_type": "markdown",
   "metadata": {
    "slideshow": {
     "slide_type": "fragment"
    }
   },
   "source": [
    "6. Fótons e Ondas de Matéria: Fenômenos quânticos: radiação térmica, efeito fotoelétrico, efeito Compton. A luz como uma onda de probabilidade. Elétrons e ondas de matéria. A equação de Schroedinger. O princípio da incerteza;"
   ]
  },
  {
   "cell_type": "markdown",
   "metadata": {
    "slideshow": {
     "slide_type": "fragment"
    }
   },
   "source": [
    "7. Física Nuclear: Propriedades dos núcleos. Decaimentos radioativos. Modelos nucleares. Aplicações da energia nuclear."
   ]
  },
  {
   "cell_type": "markdown",
   "metadata": {
    "slideshow": {
     "slide_type": "slide"
    }
   },
   "source": [
    "# Equações de Maxwell"
   ]
  },
  {
   "cell_type": "markdown",
   "metadata": {
    "slideshow": {
     "slide_type": "fragment"
    }
   },
   "source": [
    "Equações de Maxwell podem :"
   ]
  },
  {
   "cell_type": "markdown",
   "metadata": {
    "slideshow": {
     "slide_type": "fragment"
    }
   },
   "source": [
    "- estar na forma integral, via 4 equações cobrindo regiões de integração (curva, superfície, volume);"
   ]
  },
  {
   "cell_type": "markdown",
   "metadata": {
    "slideshow": {
     "slide_type": "fragment"
    }
   },
   "source": [
    "- estar na forma diferencial, via 4 equações válidas pontualmente;"
   ]
  },
  {
   "cell_type": "markdown",
   "metadata": {
    "slideshow": {
     "slide_type": "subslide"
    }
   },
   "source": [
    "- ser válidas só no vácuo (sem presença de matéria nos pontos em que as equações são calculadas);"
   ]
  },
  {
   "cell_type": "markdown",
   "metadata": {
    "slideshow": {
     "slide_type": "fragment"
    }
   },
   "source": [
    "- ser válidas na matéria (com meio material nos pontos em que as equações são calculadas);"
   ]
  },
  {
   "cell_type": "markdown",
   "metadata": {
    "slideshow": {
     "slide_type": "fragment"
    }
   },
   "source": [
    "- estar na forma tensorial usando tensor eletromagnético, via 2 equações."
   ]
  },
  {
   "cell_type": "markdown",
   "metadata": {
    "slideshow": {
     "slide_type": "slide"
    }
   },
   "source": [
    "## Equações de Maxwell no vácuo"
   ]
  },
  {
   "cell_type": "markdown",
   "metadata": {
    "slideshow": {
     "slide_type": "fragment"
    }
   },
   "source": [
    "### Equações de Maxwell no vácuo nas formas integral e diferencial"
   ]
  },
  {
   "cell_type": "markdown",
   "metadata": {
    "slideshow": {
     "slide_type": "fragment"
    }
   },
   "source": [
    "Lei de Gauss para campo elétrico :\n",
    "\n",
    "$$ \\oint_S \\vec{E}\\cdot \\hat{n}\\,dA=\\frac{q}{\\epsilon _{0}}\\quad (1.i)$$"
   ]
  },
  {
   "cell_type": "markdown",
   "metadata": {
    "slideshow": {
     "slide_type": "fragment"
    }
   },
   "source": [
    "$$\\vec{\\nabla}\\cdot \\vec{E} = \\frac{\\rho }{\\epsilon_{0}} \\quad (1.d)$$"
   ]
  },
  {
   "cell_type": "markdown",
   "metadata": {
    "slideshow": {
     "slide_type": "subslide"
    }
   },
   "source": [
    "Lei de Gauss para campo magnético :\n",
    "\n",
    "$$\\oint_S \\vec{B}\\cdot \\hat{n}\\,dA=0 \\left(T \\cdot m^2\\right) \\quad (2.i)$$"
   ]
  },
  {
   "cell_type": "markdown",
   "metadata": {
    "slideshow": {
     "slide_type": "fragment"
    }
   },
   "source": [
    "$$\\vec{\\nabla}\\cdot \\vec{B} = 0 \\left(\\frac{T}{m}\\right)\\quad (2.d)$$"
   ]
  },
  {
   "cell_type": "markdown",
   "metadata": {
    "slideshow": {
     "slide_type": "subslide"
    }
   },
   "source": [
    "Lei de Faraday :\n",
    "\n",
    "$$\\oint_C \\vec{E}\\cdot d\\vec{s}=-\\frac{\\partial \\phi _{B}}{\\partial t} \\quad (3.i)$$"
   ]
  },
  {
   "cell_type": "markdown",
   "metadata": {
    "slideshow": {
     "slide_type": "fragment"
    }
   },
   "source": [
    "$$\\vec{\\nabla}\\times \\vec{E} = -\\frac{\\partial \\vec{B}}{\\partial t}\\quad (3.d)$$"
   ]
  },
  {
   "cell_type": "markdown",
   "metadata": {
    "slideshow": {
     "slide_type": "subslide"
    }
   },
   "source": [
    "Lei de Ampère-Maxwell :\n",
    "\n",
    "$$\\oint_C \\vec{B}\\cdot d\\vec{s}=\\mu _{0}\\,\\epsilon _{0}\\,\\frac{\\partial \\phi _{E}}{\\partial t}+\\mu _{0}\\,i \\quad (4.i)$$"
   ]
  },
  {
   "cell_type": "markdown",
   "metadata": {
    "slideshow": {
     "slide_type": "fragment"
    }
   },
   "source": [
    "$$\\vec{\\nabla}\\times \\vec{B}=\\mu_{0}\\,\\epsilon _{0}\\,\\frac{\\partial \\vec{E}}{\\partial t}+\\mu _{0}\\,\\vec{J}%\n",
    "\\quad (4.d)$$"
   ]
  },
  {
   "cell_type": "markdown",
   "metadata": {
    "slideshow": {
     "slide_type": "subslide"
    }
   },
   "source": [
    "Para resumir todo o eletromagnetismo devemos também considerar :"
   ]
  },
  {
   "cell_type": "markdown",
   "metadata": {
    "slideshow": {
     "slide_type": "fragment"
    }
   },
   "source": [
    "- Lei de Lorentz :\n",
    "\n",
    "$$ \\vec{F} = q \\left(\\vec{E} + \\vec{v}\\times \\vec{B} \\right) \\quad $$  "
   ]
  },
  {
   "cell_type": "markdown",
   "metadata": {
    "slideshow": {
     "slide_type": "fragment"
    }
   },
   "source": [
    "- equação da continuidade (conservação) de carga elétrica :\n",
    "\n",
    "$$ \\frac{\\partial \\rho}{\\partial t} + \\vec{\\nabla}\\cdot \\vec{J} = 0 \\left(\\frac{C}{m^3 \\cdot s}\\right)$$  "
   ]
  },
  {
   "cell_type": "markdown",
   "metadata": {
    "slideshow": {
     "slide_type": "slide"
    }
   },
   "source": [
    "## Equações de Maxwell na matéria"
   ]
  },
  {
   "cell_type": "markdown",
   "metadata": {
    "slideshow": {
     "slide_type": "fragment"
    }
   },
   "source": [
    "### Equações de Maxwell na matéria nas formas integral e diferencial"
   ]
  },
  {
   "cell_type": "markdown",
   "metadata": {
    "slideshow": {
     "slide_type": "fragment"
    }
   },
   "source": [
    "Lei de Gauss para campo elétrico é alterada com uso do deslocamento elétrico $\\vec{D}$ e polarização elétrica $\\vec{P}$ :\n",
    "\n",
    "$$ \\vec{D} = \\epsilon_{0}\\vec{E} + \\vec{P} $$"
   ]
  },
  {
   "cell_type": "markdown",
   "metadata": {
    "slideshow": {
     "slide_type": "fragment"
    }
   },
   "source": [
    "tal que no lado direito temos somente cargas elétricas livres (free) $ q_f$ :\n",
    "\n",
    "$$ \\oint_S \\vec{D}\\cdot \\hat{n}\\,dA = q_f \\quad (1.i)$$"
   ]
  },
  {
   "cell_type": "markdown",
   "metadata": {
    "slideshow": {
     "slide_type": "fragment"
    }
   },
   "source": [
    "$$\\vec{\\nabla}\\cdot \\vec{D} = \\rho_f \\quad (1.d)$$"
   ]
  },
  {
   "cell_type": "markdown",
   "metadata": {
    "slideshow": {
     "slide_type": "subslide"
    }
   },
   "source": [
    "Lei de Gauss para campo magnético é inalterada na presença de matéria :\n",
    "\n",
    "$$\\oint_S \\vec{B}\\cdot \\hat{n}\\,dA=0 \\left(T \\cdot m^2\\right) \\quad (2.i)$$"
   ]
  },
  {
   "cell_type": "markdown",
   "metadata": {
    "slideshow": {
     "slide_type": "fragment"
    }
   },
   "source": [
    "$$\\vec{\\nabla}\\cdot \\vec{B} = 0 \\left(\\frac{T}{m}\\right)\\quad (2.d)$$"
   ]
  },
  {
   "cell_type": "markdown",
   "metadata": {
    "slideshow": {
     "slide_type": "subslide"
    }
   },
   "source": [
    "Lei de Faraday também é inalterada na presença de matéria :\n",
    "\n",
    "$$\\oint_C \\vec{E}\\cdot d\\vec{s}=-\\frac{\\partial \\phi _{B}}{\\partial t} \\quad (3.i)$$"
   ]
  },
  {
   "cell_type": "markdown",
   "metadata": {
    "slideshow": {
     "slide_type": "fragment"
    }
   },
   "source": [
    "$$\\vec{\\nabla}\\times \\vec{E} = -\\frac{\\partial \\vec{B}}{\\partial t}\\quad (3.d)$$"
   ]
  },
  {
   "cell_type": "markdown",
   "metadata": {
    "slideshow": {
     "slide_type": "subslide"
    }
   },
   "source": [
    "Lei de Ampère-Maxwell passa a empregar o vetor $\\vec{H}$ e a polarização magnética (magnetização) $\\vec{M}$ :\n",
    "\n",
    "$$ \\vec{H} = \\frac{\\vec{B}}{\\mu_{0}} - \\vec{M}$$"
   ]
  },
  {
   "cell_type": "markdown",
   "metadata": {
    "slideshow": {
     "slide_type": "fragment"
    }
   },
   "source": [
    "tal que :\n",
    "\n",
    "$$\\oint_C \\vec{H}\\cdot d\\vec{s} = i_f + \\frac{\\partial}{\\partial t}\\int_S \\vec{D}\\cdot \\hat{n}\\,dA \\quad (4.i)$$"
   ]
  },
  {
   "cell_type": "markdown",
   "metadata": {
    "slideshow": {
     "slide_type": "fragment"
    }
   },
   "source": [
    "$$\\vec{\\nabla}\\times \\vec{H} =  \\vec{J_f} + \\frac{\\partial \\vec{D}}{\\partial t}%\n",
    "\\quad (4.d)$$"
   ]
  },
  {
   "cell_type": "markdown",
   "metadata": {
    "slideshow": {
     "slide_type": "slide"
    }
   },
   "source": [
    "## Equações de Maxwell na forma tensorial (curiosidade)"
   ]
  },
  {
   "cell_type": "markdown",
   "metadata": {
    "slideshow": {
     "slide_type": "fragment"
    }
   },
   "source": [
    "Na forma tensorial os vetores campo elétrico $\\vec{E}$ e magnético $\\vec{B}$, juntos, formam o tensor eletromagnético $F_{\\mu\\nu}$."
   ]
  },
  {
   "cell_type": "markdown",
   "metadata": {
    "slideshow": {
     "slide_type": "fragment"
    }
   },
   "source": [
    "Usando o tensor eletromagnético $F_{\\mu\\nu}$, as equações de Maxwell são somente duas (2)."
   ]
  },
  {
   "cell_type": "markdown",
   "metadata": {
    "slideshow": {
     "slide_type": "subslide"
    }
   },
   "source": [
    "1a equação de Maxwell na forma tensorial, chamada de lei de Gauss-Ampère :\n",
    "\n",
    "$$\\frac{\\partial F^{\\mu\\nu}}{\\partial x^\\mu} = \\mu _{0}\\,{J^\\nu} $$"
   ]
  },
  {
   "cell_type": "markdown",
   "metadata": {
    "slideshow": {
     "slide_type": "fragment"
    }
   },
   "source": [
    "2a equação de Maxwell na forma tensorial, $G^{\\mu\\nu}$ obtido a partir do $F^{\\mu\\nu}$, chamada de lei de Gauss-Faraday :\n",
    "\n",
    "$$\\frac{\\partial G^{\\mu\\nu}}{\\partial x^\\mu} = 0 $$"
   ]
  }
 ],
 "metadata": {
  "celltoolbar": "Slideshow",
  "kernelspec": {
   "display_name": "Python 3",
   "language": "python",
   "name": "python3"
  },
  "language_info": {
   "codemirror_mode": {
    "name": "ipython",
    "version": 3
   },
   "file_extension": ".py",
   "mimetype": "text/x-python",
   "name": "python",
   "nbconvert_exporter": "python",
   "pygments_lexer": "ipython3",
   "version": "3.8.3"
  }
 },
 "nbformat": 4,
 "nbformat_minor": 2
}
